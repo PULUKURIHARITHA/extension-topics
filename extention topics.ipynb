{
 "cells": [
  {
   "cell_type": "code",
   "execution_count": 9,
   "id": "21795f06-da41-456b-a4ba-e4a702cc4d16",
   "metadata": {},
   "outputs": [
    {
     "name": "stdin",
     "output_type": "stream",
     "text": [
      "enter a line to append data  werty;lkrtfgc\n"
     ]
    },
    {
     "name": "stdout",
     "output_type": "stream",
     "text": [
      "\n",
      " current content in the file\n",
      "<built-in method read of _io.TextIOWrapper object at 0x0000012B2299D700>\n"
     ]
    }
   ],
   "source": [
    "with open ('line.txt','a+') as file:\n",
    "    text=input(\"enter a line to append data \")\n",
    "    file.write(text+'\\n')\n",
    "    file.seek(0)\n",
    "    print(\"\\n current content in the file\")\n",
    "    print(file.read)"
   ]
  },
  {
   "cell_type": "code",
   "execution_count": 11,
   "id": "0316234c-7c1a-4cd3-bf87-fd8e2a8c39ff",
   "metadata": {},
   "outputs": [
    {
     "name": "stdin",
     "output_type": "stream",
     "text": [
      "enter the data..... werty;lkrtfgc\n"
     ]
    },
    {
     "name": "stdout",
     "output_type": "stream",
     "text": [
      "\n",
      " latest file content\n",
      "werty;lkrtfgc\n"
     ]
    }
   ],
   "source": [
    "with open('sample.txt','w+') as file:\n",
    "    text=input(\"enter the data.....\")\n",
    "    file.write(text)\n",
    "    file.seek(0)\n",
    "    print(\"\\n latest file content\")\n",
    "    print(file.read())"
   ]
  },
  {
   "cell_type": "code",
   "execution_count": 13,
   "id": "f38af24b-ce96-4f49-bdaf-2ee3c42b843a",
   "metadata": {},
   "outputs": [
    {
     "name": "stdout",
     "output_type": "stream",
     "text": [
      "latest data :\n",
      "My full name is Haritha Pulukuri.\n",
      "\n"
     ]
    },
    {
     "name": "stdin",
     "output_type": "stream",
     "text": [
      "\n",
      " enter text to overwrite from begining.... i have a bicycle\n"
     ]
    },
    {
     "name": "stdout",
     "output_type": "stream",
     "text": [
      "\n",
      " file after writing by r+\n",
      "i have a bicycleHaritha Pulukuri.\n",
      "\n"
     ]
    }
   ],
   "source": [
    "#Extensions\n",
    "#r+    ->fil;le should exist / overwrits existing content\n",
    "#w+    -> content clarity(refresh)\n",
    "#a+   ->creates a file if exists,reading works only after seek()\n",
    "#truncate()\n",
    "filename='sample.txt'\n",
    "with open(filename,'w') as f:\n",
    "    f.write(\"My full name is Haritha Pulukuri.\\n\")\n",
    "with open(filename,'r+')as file:\n",
    "    print(\"latest data :\")\n",
    "    print(file.read())\n",
    "    file.seek(0)\n",
    "    userinput=input(\"\\n enter text to overwrite from begining....\")\n",
    "    file.write(userinput)\n",
    "    file.seek(0)\n",
    "    print(\"\\n file after writing by r+\")\n",
    "    print(file.read())"
   ]
  },
  {
   "cell_type": "code",
   "execution_count": null,
   "id": "7140b993-8624-4eb2-8ece-5ebcd5a38d93",
   "metadata": {},
   "outputs": [],
   "source": []
  }
 ],
 "metadata": {
  "kernelspec": {
   "display_name": "Python 3 (ipykernel)",
   "language": "python",
   "name": "python3"
  },
  "language_info": {
   "codemirror_mode": {
    "name": "ipython",
    "version": 3
   },
   "file_extension": ".py",
   "mimetype": "text/x-python",
   "name": "python",
   "nbconvert_exporter": "python",
   "pygments_lexer": "ipython3",
   "version": "3.12.7"
  }
 },
 "nbformat": 4,
 "nbformat_minor": 5
}
